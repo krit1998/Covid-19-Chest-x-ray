{
 "cells": [
  {
   "cell_type": "code",
   "execution_count": 1,
   "metadata": {},
   "outputs": [],
   "source": [
    "from tensorflow.keras.applications.inception_v3 import InceptionV3\n",
    "from tensorflow.keras.layers import Flatten, Dense, Dropout\n",
    "from tensorflow.keras.models import Model\n",
    "from tensorflow.keras.preprocessing.image import ImageDataGenerator\n",
    "import tensorflow as tf\n",
    "import os"
   ]
  },
  {
   "cell_type": "code",
   "execution_count": 2,
   "metadata": {},
   "outputs": [],
   "source": [
    "train_dir = os.path.join('Kaggle_Full/datasets/datasets/train')\n",
    "test_dir = os.path.join('Kaggle_Full/datasets/datasets/test')"
   ]
  },
  {
   "cell_type": "code",
   "execution_count": 7,
   "metadata": {},
   "outputs": [],
   "source": [
    "def image_gen_w_aug(train_parent_directory, test_parent_directory):\n",
    "    \n",
    "    train_datagen = ImageDataGenerator(rescale=1/255,\n",
    "                                      rotation_range = 30,  \n",
    "                                      zoom_range = 0.2, \n",
    "                                      width_shift_range=0.1,  \n",
    "                                      height_shift_range=0.1,\n",
    "                                      validation_split = 0.15)\n",
    "    \n",
    "  \n",
    "    \n",
    "    test_datagen = ImageDataGenerator(rescale=1/255)\n",
    "    \n",
    "    train_generator =          train_datagen.flow_from_directory(train_parent_directory,\n",
    "                                  target_size = (75,75),\n",
    "                                  batch_size = 32,\n",
    "                                  class_mode = 'categorical',\n",
    "                                  subset='training')\n",
    "    \n",
    "    val_generator = train_datagen.flow_from_directory(train_parent_directory,\n",
    "                                  target_size = (75,75),\n",
    "                                  batch_size = 32,\n",
    "                                  class_mode = 'categorical',\n",
    "                                  subset = 'validation')\n",
    "    \n",
    "    test_generator = test_datagen.flow_from_directory(test_parent_directory,\n",
    "                                 target_size=(75,75),\n",
    "                                 batch_size = 32,\n",
    "                                 class_mode = 'categorical')\n",
    "    return train_generator, val_generator, test_generator"
   ]
  },
  {
   "cell_type": "code",
   "execution_count": 8,
   "metadata": {},
   "outputs": [
    {
     "name": "stdout",
     "output_type": "stream",
     "text": [
      "Found 576 images belonging to 2 classes.\n",
      "Found 100 images belonging to 2 classes.\n",
      "Found 408 images belonging to 2 classes.\n"
     ]
    }
   ],
   "source": [
    "train_generator, validation_generator, test_generator = image_gen_w_aug(train_dir, test_dir)"
   ]
  },
  {
   "cell_type": "code",
   "execution_count": 9,
   "metadata": {},
   "outputs": [],
   "source": [
    "def model_output_for_TL (pre_trained_model, last_output):    \n",
    "    x = Flatten()(last_output)\n",
    "    \n",
    "    # Dense hidden layer\n",
    "    x = Dense(512, activation='relu')(x)\n",
    "    x = Dropout(0.2)(x)\n",
    "    \n",
    "    # Output neuron. \n",
    "    x = Dense(2, activation='softmax')(x)\n",
    "    \n",
    "    model = Model(pre_trained_model.input, x)\n",
    "    \n",
    "    return model\n",
    "pre_trained_model = InceptionV3(input_shape = (75, 75, 3), \n",
    "                                include_top = False, \n",
    "                                weights = 'imagenet')\n",
    "for layer in pre_trained_model.layers:\n",
    "  layer.trainable = False\n",
    "last_layer = pre_trained_model.get_layer('mixed5')\n",
    "last_output = last_layer.output\n",
    "model_TL = model_output_for_TL(pre_trained_model, last_output)"
   ]
  },
  {
   "cell_type": "code",
   "execution_count": 10,
   "metadata": {},
   "outputs": [
    {
     "name": "stdout",
     "output_type": "stream",
     "text": [
      "Epoch 1/20\n",
      "10/10 [==============================] - 8s 814ms/step - loss: 1.5128 - accuracy: 0.8125 - val_loss: 0.3075 - val_accuracy: 0.8500\n",
      "Epoch 2/20\n",
      "10/10 [==============================] - 7s 713ms/step - loss: 0.4047 - accuracy: 0.8844 - val_loss: 0.2449 - val_accuracy: 0.9100\n",
      "Epoch 3/20\n",
      "10/10 [==============================] - 7s 708ms/step - loss: 0.1896 - accuracy: 0.9250 - val_loss: 0.1568 - val_accuracy: 0.9500\n",
      "Epoch 4/20\n",
      "10/10 [==============================] - 7s 694ms/step - loss: 0.2119 - accuracy: 0.9219 - val_loss: 0.1262 - val_accuracy: 0.9500\n",
      "Epoch 5/20\n",
      "10/10 [==============================] - 7s 695ms/step - loss: 0.1844 - accuracy: 0.9406 - val_loss: 0.2327 - val_accuracy: 0.9000\n",
      "Epoch 6/20\n",
      "10/10 [==============================] - 7s 707ms/step - loss: 0.1858 - accuracy: 0.9250 - val_loss: 0.1663 - val_accuracy: 0.9200\n",
      "Epoch 7/20\n",
      "10/10 [==============================] - 7s 710ms/step - loss: 0.1001 - accuracy: 0.9594 - val_loss: 0.0994 - val_accuracy: 0.9700\n",
      "Epoch 8/20\n",
      "10/10 [==============================] - 7s 729ms/step - loss: 0.1110 - accuracy: 0.9594 - val_loss: 0.1268 - val_accuracy: 0.9500\n",
      "Epoch 9/20\n",
      "10/10 [==============================] - 7s 673ms/step - loss: 0.1357 - accuracy: 0.9438 - val_loss: 0.1230 - val_accuracy: 0.9500\n",
      "Epoch 10/20\n",
      "10/10 [==============================] - 7s 745ms/step - loss: 0.0986 - accuracy: 0.9625 - val_loss: 0.1221 - val_accuracy: 0.9800\n",
      "Epoch 11/20\n",
      "10/10 [==============================] - 7s 681ms/step - loss: 0.1215 - accuracy: 0.9563 - val_loss: 0.1682 - val_accuracy: 0.9500\n",
      "Epoch 12/20\n",
      "10/10 [==============================] - 7s 717ms/step - loss: 0.1584 - accuracy: 0.9187 - val_loss: 0.1719 - val_accuracy: 0.9100\n",
      "Epoch 13/20\n",
      "10/10 [==============================] - 7s 695ms/step - loss: 0.2087 - accuracy: 0.9281 - val_loss: 0.1070 - val_accuracy: 0.9500\n",
      "Epoch 14/20\n",
      "10/10 [==============================] - 7s 688ms/step - loss: 0.1570 - accuracy: 0.9438 - val_loss: 0.1129 - val_accuracy: 0.9400\n",
      "Epoch 15/20\n",
      "10/10 [==============================] - 7s 690ms/step - loss: 0.1505 - accuracy: 0.9406 - val_loss: 0.3641 - val_accuracy: 0.8700\n",
      "Epoch 16/20\n",
      "10/10 [==============================] - 7s 691ms/step - loss: 0.1093 - accuracy: 0.9563 - val_loss: 0.2888 - val_accuracy: 0.9200\n",
      "Epoch 17/20\n",
      "10/10 [==============================] - 7s 710ms/step - loss: 0.1438 - accuracy: 0.9531 - val_loss: 0.1084 - val_accuracy: 0.9400\n",
      "Epoch 18/20\n",
      "10/10 [==============================] - 7s 717ms/step - loss: 0.1064 - accuracy: 0.9625 - val_loss: 0.1348 - val_accuracy: 0.9500\n",
      "Epoch 19/20\n",
      "10/10 [==============================] - 7s 696ms/step - loss: 0.1180 - accuracy: 0.9469 - val_loss: 0.1243 - val_accuracy: 0.9500\n",
      "Epoch 20/20\n",
      "10/10 [==============================] - 7s 698ms/step - loss: 0.0979 - accuracy: 0.9594 - val_loss: 0.2017 - val_accuracy: 0.9300\n"
     ]
    }
   ],
   "source": [
    "model_TL.compile(optimizer='adam', loss='categorical_crossentropy', metrics=['accuracy'])\n",
    "history_TL = model_TL.fit(\n",
    "      train_generator,\n",
    "      steps_per_epoch=10,  \n",
    "      epochs=20,\n",
    "      verbose=1,\n",
    "      validation_data = validation_generator)"
   ]
  },
  {
   "cell_type": "code",
   "execution_count": 11,
   "metadata": {},
   "outputs": [],
   "source": [
    "tf.keras.models.save_model(model_TL,'my_model.hdf5')"
   ]
  },
  {
   "cell_type": "code",
   "execution_count": 12,
   "metadata": {},
   "outputs": [],
   "source": [
    "model = tf.keras.models.load_model('my_model.hdf5')"
   ]
  },
  {
   "cell_type": "code",
   "execution_count": 13,
   "metadata": {},
   "outputs": [],
   "source": [
    "import streamlit as st\n",
    "st.write(\"\"\"\n",
    "         # Covid Prediction\n",
    "         \"\"\"\n",
    "         )\n",
    "st.write(\"This is a simple image classification web app to predict covid form chest x-ray, upload image in jpg or png\")\n",
    "file = st.file_uploader(\"Please upload an image file\", type=[\"jpg\", \"png\"])"
   ]
  },
  {
   "cell_type": "code",
   "execution_count": 1,
   "metadata": {},
   "outputs": [
    {
     "ename": "ModuleNotFoundError",
     "evalue": "No module named 'cv2'",
     "output_type": "error",
     "traceback": [
      "\u001b[1;31m---------------------------------------------------------------------------\u001b[0m",
      "\u001b[1;31mModuleNotFoundError\u001b[0m                       Traceback (most recent call last)",
      "\u001b[1;32m<ipython-input-1-612b8c94b953>\u001b[0m in \u001b[0;36m<module>\u001b[1;34m()\u001b[0m\n\u001b[1;32m----> 1\u001b[1;33m \u001b[1;32mimport\u001b[0m \u001b[0mcv2\u001b[0m\u001b[1;33m\u001b[0m\u001b[1;33m\u001b[0m\u001b[0m\n\u001b[0m\u001b[0;32m      2\u001b[0m \u001b[1;32mfrom\u001b[0m \u001b[0mPIL\u001b[0m \u001b[1;32mimport\u001b[0m \u001b[0mImage\u001b[0m\u001b[1;33m,\u001b[0m \u001b[0mImageOps\u001b[0m\u001b[1;33m\u001b[0m\u001b[1;33m\u001b[0m\u001b[0m\n\u001b[0;32m      3\u001b[0m \u001b[1;32mimport\u001b[0m \u001b[0mnumpy\u001b[0m \u001b[1;32mas\u001b[0m \u001b[0mnp\u001b[0m\u001b[1;33m\u001b[0m\u001b[1;33m\u001b[0m\u001b[0m\n\u001b[0;32m      4\u001b[0m \u001b[1;32mdef\u001b[0m \u001b[0mimport_and_predict\u001b[0m\u001b[1;33m(\u001b[0m\u001b[0mimage_data\u001b[0m\u001b[1;33m,\u001b[0m \u001b[0mmodel\u001b[0m\u001b[1;33m)\u001b[0m\u001b[1;33m:\u001b[0m\u001b[1;33m\u001b[0m\u001b[1;33m\u001b[0m\u001b[0m\n\u001b[0;32m      5\u001b[0m \u001b[1;33m\u001b[0m\u001b[0m\n",
      "\u001b[1;31mModuleNotFoundError\u001b[0m: No module named 'cv2'"
     ]
    }
   ],
   "source": [
    "import cv2\n",
    "from PIL import Image, ImageOps\n",
    "import numpy as np\n",
    "def import_and_predict(image_data, model):\n",
    "    \n",
    "        size = (150,150)    \n",
    "        image = ImageOps.fit(image_data, size, Image.ANTIALIAS)\n",
    "        image = np.asarray(image)\n",
    "        img = cv2.cvtColor(image, cv2.COLOR_BGR2RGB)\n",
    "        img_resize = (cv2.resize(img, dsize=(75, 75),    interpolation=cv2.INTER_CUBIC))/255.\n",
    "        \n",
    "        img_reshape = img_resize[np.newaxis,...]\n",
    "    \n",
    "        prediction = model.predict(img_reshape)\n",
    "        \n",
    "        return prediction\n",
    "if file is None:\n",
    "    st.text(\"Please upload an image file\")\n",
    "else:\n",
    "    image = Image.open(file)\n",
    "    st.image(image, use_column_width=True)\n",
    "    prediction = import_and_predict(image, model)\n",
    "    \n",
    "    if np.argmax(prediction) == 0:\n",
    "        st.write(\"It is a Negative\")\n",
    "    else:\n",
    "        st.write(\"It is a Covid!\")\n",
    "    \n",
    "    st.text(\"Probability (0: Paper, 1: Rock, 2: Scissor\")\n",
    "    st.write(prediction)"
   ]
  },
  {
   "cell_type": "code",
   "execution_count": null,
   "metadata": {},
   "outputs": [],
   "source": []
  }
 ],
 "metadata": {
  "kernelspec": {
   "display_name": "Python 3",
   "language": "python",
   "name": "python3"
  },
  "language_info": {
   "codemirror_mode": {
    "name": "ipython",
    "version": 3
   },
   "file_extension": ".py",
   "mimetype": "text/x-python",
   "name": "python",
   "nbconvert_exporter": "python",
   "pygments_lexer": "ipython3",
   "version": "3.7.8"
  }
 },
 "nbformat": 4,
 "nbformat_minor": 4
}
